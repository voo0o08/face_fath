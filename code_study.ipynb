{
 "cells": [
  {
   "cell_type": "markdown",
   "metadata": {},
   "source": [
    "# 필요한 거 불러오고"
   ]
  },
  {
   "cell_type": "code",
   "execution_count": 2,
   "metadata": {},
   "outputs": [],
   "source": [
    "import cv2\n",
    "import numpy as np\n",
    "import matplotlib.pyplot as plt\n",
    "from scipy.spatial import distance"
   ]
  },
  {
   "cell_type": "markdown",
   "metadata": {},
   "source": [
    "# 파일 불러와줌"
   ]
  },
  {
   "cell_type": "code",
   "execution_count": 19,
   "metadata": {},
   "outputs": [],
   "source": [
    "\n",
    "# 파라미터\n",
    "MIN_DIST = 3.0  # 최소 점 간 거리\n",
    "IMG_PATH = \"./data/test3.jpg\"\n",
    "\n",
    "# 이미지 불러오기 및 전처리\n",
    "image = cv2.imread(IMG_PATH)\n",
    "if image is None:\n",
    "    raise FileNotFoundError(\"이미지를 찾을 수 없습니다.\")"
   ]
  },
  {
   "cell_type": "markdown",
   "metadata": {},
   "source": [
    "# 전처리\n",
    "레츠기릿"
   ]
  },
  {
   "cell_type": "code",
   "execution_count": 20,
   "metadata": {},
   "outputs": [],
   "source": [
    "bilateral = cv2.bilateralFilter(image, 9, 75, 75)\n",
    "gray = cv2.cvtColor(bilateral, cv2.COLOR_BGR2GRAY)\n",
    "edges = cv2.Canny(gray, 50, 150)"
   ]
  },
  {
   "cell_type": "markdown",
   "metadata": {},
   "source": [
    "- cv2.getStructuringElement(shape, ksize)\n",
    "    : 모폴로지에 쓰는 커널 함수 \n",
    "    - shape : 구조화 요소 모양 MORPH_CROSS = 십자가 모양\n",
    "    - ksize : 커널 크기 (행, 열)"
   ]
  },
  {
   "cell_type": "code",
   "execution_count": 21,
   "metadata": {},
   "outputs": [],
   "source": [
    "\n",
    "# Skeletonization\n",
    "def skeletonize(img):\n",
    "    skel = np.zeros(img.shape, np.uint8) # 빈 이미지 생성 (0으로 채워진)\n",
    "    element = cv2.getStructuringElement(cv2.MORPH_ELLIPSE, (3, 3))\n",
    "    while True:\n",
    "        open_img = cv2.morphologyEx(img, cv2.MORPH_OPEN, element)\n",
    "        temp = cv2.subtract(img, open_img)\n",
    "        eroded = cv2.erode(img, element)\n",
    "        skel = cv2.bitwise_or(skel, temp)\n",
    "        img[:] = eroded[:]\n",
    "        if cv2.countNonZero(img) == 0:\n",
    "            break\n",
    "    return skel\n",
    "\n",
    "skeleton = skeletonize(edges)"
   ]
  },
  {
   "cell_type": "code",
   "execution_count": 22,
   "metadata": {},
   "outputs": [],
   "source": [
    "# (y, x) 좌표 추출\n",
    "points = np.column_stack(np.where(skeleton > 0))\n",
    "visited = np.zeros(len(points), dtype=bool)\n",
    "path = []"
   ]
  },
  {
   "cell_type": "code",
   "execution_count": 23,
   "metadata": {},
   "outputs": [],
   "source": [
    "\n",
    "# 시작점: 가장 왼쪽 위 점\n",
    "current_idx = np.argmin(points[:, 0] + points[:, 1])\n",
    "current_point = points[current_idx]\n",
    "visited[current_idx] = True\n",
    "path.append(tuple(current_point))\n"
   ]
  },
  {
   "cell_type": "code",
   "execution_count": 24,
   "metadata": {},
   "outputs": [],
   "source": [
    "\n",
    "# TSP-like 연결 (가장 가까운 점 찾기)\n",
    "while not np.all(visited):\n",
    "    dists = distance.cdist([current_point], points[~visited])\n",
    "    nearest_idx_in_unvisited = np.argmin(dists)\n",
    "    global_idx = np.where(~visited)[0][nearest_idx_in_unvisited]\n",
    "    if dists[0, nearest_idx_in_unvisited] < MIN_DIST:\n",
    "        visited[global_idx] = True\n",
    "        continue  # 너무 가까우면 스킵\n",
    "    current_point = points[global_idx]\n",
    "    visited[global_idx] = True\n",
    "    path.append(tuple(current_point))\n"
   ]
  },
  {
   "cell_type": "code",
   "execution_count": 26,
   "metadata": {},
   "outputs": [
    {
     "data": {
      "image/png": "[encoded data removed]",
      "text/plain": [
       "<Figure size 432x288 with 1 Axes>"
      ]
     },
     "metadata": {
      "needs_background": "light"
     },
     "output_type": "display_data"
    }
   ],
   "source": [
    "# 결과 이미지 생성\n",
    "draw_img = np.ones_like(image) * 255\n",
    "for pt in path:\n",
    "    cv2.circle(draw_img, (pt[1], pt[0]), 1, (0, 0, 0), -1)\n",
    "\n",
    "# 저장 및 확인\n",
    "# cv2.imwrite(\"path_thinned.png\", draw_img)\n",
    "plt.imshow(cv2.cvtColor(draw_img, cv2.COLOR_BGR2RGB))\n",
    "plt.title(\"Optimized Drawing Path\")\n",
    "plt.axis(\"off\")\n",
    "plt.show()\n"
   ]
  },
  {
   "cell_type": "markdown",
   "metadata": {},
   "source": [
    "밑에 코드는 알고 싶지 않다...  \n",
    "호호"
   ]
  },
  {
   "cell_type": "code",
   "execution_count": 27,
   "metadata": {},
   "outputs": [],
   "source": [
    "\n",
    "#############################\n",
    "# path를 여러 개의 선으로 나누고, turtle로 뗐다 붙였다 그리는 버전\n",
    "import turtle\n",
    "\n",
    "# 거리 기준 (너무 멀면 새 선으로 인식)\n",
    "BREAK_DIST = 15.0\n",
    "\n",
    "# path를 여러 선으로 분할\n",
    "def split_path_into_lines(path, break_dist=15.0):\n",
    "    lines = []\n",
    "    current_line = [path[0]]\n",
    "    for prev, curr in zip(path[:-1], path[1:]):\n",
    "        dist = np.linalg.norm(np.array(curr) - np.array(prev))\n",
    "        if dist > break_dist:\n",
    "            if len(current_line) > 1:\n",
    "                lines.append(current_line)\n",
    "            current_line = [curr]\n",
    "        else:\n",
    "            current_line.append(curr)\n",
    "    if len(current_line) > 1:\n",
    "        lines.append(current_line)\n",
    "    return lines\n",
    "\n",
    "# 좌표 변환용\n",
    "h, w = 600, 800\n",
    "scale_x = 800 / w\n",
    "scale_y = 600 / h\n",
    "\n",
    "# Turtle 설정\n",
    "turtle.speed(0)\n",
    "turtle.bgcolor(\"white\")\n",
    "turtle.pensize(1)\n",
    "screen = turtle.Screen()\n",
    "screen.setup(width=800, height=600)\n",
    "colors = [\"black\", \"red\", \"blue\", \"green\", \"purple\", \"orange\"]\n",
    "\n",
    "# 선 분할\n",
    "lines = split_path_into_lines(path)\n",
    "\n",
    "# 그리기\n",
    "for idx, line in enumerate(lines):\n",
    "    if len(line) == 0:\n",
    "        continue\n",
    "    turtle.penup()\n",
    "    y, x = line[0]\n",
    "    turtle.goto(x * scale_x - 400, 300 - y * scale_y)\n",
    "    turtle.pencolor(colors[idx % len(colors)])\n",
    "    turtle.pendown()\n",
    "    for y, x in line[1:]:\n",
    "        turtle.goto(x * scale_x - 400, 300 - y * scale_y)\n",
    "\n",
    "turtle.done()"
   ]
  },
  {
   "cell_type": "code",
   "execution_count": null,
   "metadata": {},
   "outputs": [],
   "source": []
  },
  {
   "cell_type": "code",
   "execution_count": null,
   "metadata": {},
   "outputs": [],
   "source": []
  },
  {
   "cell_type": "code",
   "execution_count": null,
   "metadata": {},
   "outputs": [],
   "source": []
  },
  {
   "cell_type": "code",
   "execution_count": null,
   "metadata": {},
   "outputs": [],
   "source": []
  },
  {
   "cell_type": "code",
   "execution_count": null,
   "metadata": {},
   "outputs": [],
   "source": []
  }
 ],
 "metadata": {
  "kernelspec": {
   "display_name": "Python 3",
   "language": "python",
   "name": "python3"
  },
  "language_info": {
   "codemirror_mode": {
    "name": "ipython",
    "version": 3
   },
   "file_extension": ".py",
   "mimetype": "text/x-python",
   "name": "python",
   "nbconvert_exporter": "python",
   "pygments_lexer": "ipython3",
   "version": "3.9.5"
  }
 },
 "nbformat": 4,
 "nbformat_minor": 2
}
